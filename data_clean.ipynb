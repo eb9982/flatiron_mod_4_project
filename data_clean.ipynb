{
 "cells": [
  {
   "cell_type": "code",
   "execution_count": 5,
   "metadata": {},
   "outputs": [],
   "source": [
    "import pandas as pd\n",
    "import re\n",
    "import numpy as np"
   ]
  },
  {
   "cell_type": "code",
   "execution_count": 6,
   "metadata": {},
   "outputs": [],
   "source": [
    "post_path = 'post_data.csv'\n",
    "columns = ['index','id', 'categories', 'description', 'birthday', 'gender', \n",
    "           'post_followers', 'post_time', 'post_likes', 'post_interactions', 'post_comments', \n",
    "           'post_caption', 'post_hashtags', 'post_mentions']"
   ]
  },
  {
   "cell_type": "code",
   "execution_count": 7,
   "metadata": {},
   "outputs": [],
   "source": [
    "df = pd.read_csv(post_path)"
   ]
  },
  {
   "cell_type": "code",
   "execution_count": 8,
   "metadata": {},
   "outputs": [
    {
     "data": {
      "text/html": [
       "<div>\n",
       "<style scoped>\n",
       "    .dataframe tbody tr th:only-of-type {\n",
       "        vertical-align: middle;\n",
       "    }\n",
       "\n",
       "    .dataframe tbody tr th {\n",
       "        vertical-align: top;\n",
       "    }\n",
       "\n",
       "    .dataframe thead th {\n",
       "        text-align: right;\n",
       "    }\n",
       "</style>\n",
       "<table border=\"1\" class=\"dataframe\">\n",
       "  <thead>\n",
       "    <tr style=\"text-align: right;\">\n",
       "      <th></th>\n",
       "      <th>id</th>\n",
       "      <th>categories</th>\n",
       "      <th>description</th>\n",
       "      <th>birthday</th>\n",
       "      <th>gender</th>\n",
       "      <th>post_followers</th>\n",
       "      <th>post_time</th>\n",
       "      <th>post_likes</th>\n",
       "      <th>post_comments</th>\n",
       "      <th>post_caption</th>\n",
       "      <th>post_hashtags</th>\n",
       "      <th>post_mentions</th>\n",
       "    </tr>\n",
       "  </thead>\n",
       "  <tbody>\n",
       "    <tr>\n",
       "      <th>0</th>\n",
       "      <td>{:id=&gt;71177, :categories=&gt;[10, 13, 24], :descr...</td>\n",
       "      <td>NaN</td>\n",
       "      <td>NaN</td>\n",
       "      <td>NaN</td>\n",
       "      <td>NaN</td>\n",
       "      <td>NaN</td>\n",
       "      <td>NaN</td>\n",
       "      <td>NaN</td>\n",
       "      <td>NaN</td>\n",
       "      <td>NaN</td>\n",
       "      <td>NaN</td>\n",
       "      <td>NaN</td>\n",
       "    </tr>\n",
       "    <tr>\n",
       "      <th>1</th>\n",
       "      <td>{:id=&gt;71177, :categories=&gt;[10, 13, 24], :descr...</td>\n",
       "      <td>NaN</td>\n",
       "      <td>NaN</td>\n",
       "      <td>NaN</td>\n",
       "      <td>NaN</td>\n",
       "      <td>NaN</td>\n",
       "      <td>NaN</td>\n",
       "      <td>NaN</td>\n",
       "      <td>NaN</td>\n",
       "      <td>NaN</td>\n",
       "      <td>NaN</td>\n",
       "      <td>NaN</td>\n",
       "    </tr>\n",
       "    <tr>\n",
       "      <th>2</th>\n",
       "      <td>{:id=&gt;71177, :categories=&gt;[10, 13, 24], :descr...</td>\n",
       "      <td>NaN</td>\n",
       "      <td>NaN</td>\n",
       "      <td>NaN</td>\n",
       "      <td>NaN</td>\n",
       "      <td>NaN</td>\n",
       "      <td>NaN</td>\n",
       "      <td>NaN</td>\n",
       "      <td>NaN</td>\n",
       "      <td>NaN</td>\n",
       "      <td>NaN</td>\n",
       "      <td>NaN</td>\n",
       "    </tr>\n",
       "    <tr>\n",
       "      <th>3</th>\n",
       "      <td>{:id=&gt;71177, :categories=&gt;[10, 13, 24], :descr...</td>\n",
       "      <td>NaN</td>\n",
       "      <td>NaN</td>\n",
       "      <td>NaN</td>\n",
       "      <td>NaN</td>\n",
       "      <td>NaN</td>\n",
       "      <td>NaN</td>\n",
       "      <td>NaN</td>\n",
       "      <td>NaN</td>\n",
       "      <td>NaN</td>\n",
       "      <td>NaN</td>\n",
       "      <td>NaN</td>\n",
       "    </tr>\n",
       "    <tr>\n",
       "      <th>4</th>\n",
       "      <td>{:id=&gt;71177, :categories=&gt;[10, 13, 24], :descr...</td>\n",
       "      <td>NaN</td>\n",
       "      <td>NaN</td>\n",
       "      <td>NaN</td>\n",
       "      <td>NaN</td>\n",
       "      <td>NaN</td>\n",
       "      <td>NaN</td>\n",
       "      <td>NaN</td>\n",
       "      <td>NaN</td>\n",
       "      <td>NaN</td>\n",
       "      <td>NaN</td>\n",
       "      <td>NaN</td>\n",
       "    </tr>\n",
       "  </tbody>\n",
       "</table>\n",
       "</div>"
      ],
      "text/plain": [
       "                                                  id  categories  description  \\\n",
       "0  {:id=>71177, :categories=>[10, 13, 24], :descr...         NaN          NaN   \n",
       "1  {:id=>71177, :categories=>[10, 13, 24], :descr...         NaN          NaN   \n",
       "2  {:id=>71177, :categories=>[10, 13, 24], :descr...         NaN          NaN   \n",
       "3  {:id=>71177, :categories=>[10, 13, 24], :descr...         NaN          NaN   \n",
       "4  {:id=>71177, :categories=>[10, 13, 24], :descr...         NaN          NaN   \n",
       "\n",
       "   birthday  gender  post_followers  post_time  post_likes  post_comments  \\\n",
       "0       NaN     NaN             NaN        NaN         NaN            NaN   \n",
       "1       NaN     NaN             NaN        NaN         NaN            NaN   \n",
       "2       NaN     NaN             NaN        NaN         NaN            NaN   \n",
       "3       NaN     NaN             NaN        NaN         NaN            NaN   \n",
       "4       NaN     NaN             NaN        NaN         NaN            NaN   \n",
       "\n",
       "   post_caption  post_hashtags  post_mentions  \n",
       "0           NaN            NaN            NaN  \n",
       "1           NaN            NaN            NaN  \n",
       "2           NaN            NaN            NaN  \n",
       "3           NaN            NaN            NaN  \n",
       "4           NaN            NaN            NaN  "
      ]
     },
     "execution_count": 8,
     "metadata": {},
     "output_type": "execute_result"
    }
   ],
   "source": [
    "df.head()"
   ]
  },
  {
   "cell_type": "code",
   "execution_count": 9,
   "metadata": {},
   "outputs": [],
   "source": [
    "split_categories = [':id=>', ':categories=>', ':description=>', ':birthday=>', ':gender=>', ':post_followers=>', \n",
    "                 ':post_time=>', ':post_interactions=>', ':post_likes=>',':post_comments=>',':post_caption=>',\n",
    "                 ':post_caption=>',':post_hashtags=>',':post_mentions=>']"
   ]
  },
  {
   "cell_type": "code",
   "execution_count": 10,
   "metadata": {},
   "outputs": [],
   "source": [
    "df2 = pd.DataFrame(df['id'].str.replace('{', ''))"
   ]
  },
  {
   "cell_type": "code",
   "execution_count": 11,
   "metadata": {},
   "outputs": [],
   "source": [
    "df2 = pd.DataFrame(df2['id'].str.replace('}', ''))"
   ]
  },
  {
   "cell_type": "code",
   "execution_count": 12,
   "metadata": {},
   "outputs": [],
   "source": [
    "for i in split_categories:\n",
    "    df2 = pd.DataFrame(df2['id'].str.replace(i, 'œ∑'))"
   ]
  },
  {
   "cell_type": "code",
   "execution_count": 13,
   "metadata": {},
   "outputs": [],
   "source": [
    "df3 = df2['id'].str.split('œ∑', expand=True)"
   ]
  },
  {
   "cell_type": "code",
   "execution_count": 14,
   "metadata": {},
   "outputs": [],
   "source": [
    "df3.columns = columns"
   ]
  },
  {
   "cell_type": "code",
   "execution_count": 15,
   "metadata": {},
   "outputs": [],
   "source": [
    "df=df3"
   ]
  },
  {
   "cell_type": "markdown",
   "metadata": {},
   "source": [
    "### Id Column: remove comma, convert to int"
   ]
  },
  {
   "cell_type": "code",
   "execution_count": 16,
   "metadata": {},
   "outputs": [],
   "source": [
    "df['id'] = pd.DataFrame(df['id'].str.replace(',', ''))"
   ]
  },
  {
   "cell_type": "code",
   "execution_count": 17,
   "metadata": {},
   "outputs": [],
   "source": [
    "df.id = pd.to_numeric(df.id)"
   ]
  },
  {
   "cell_type": "markdown",
   "metadata": {},
   "source": [
    "### Convert Categories String to list, one hot encode"
   ]
  },
  {
   "cell_type": "code",
   "execution_count": 18,
   "metadata": {},
   "outputs": [],
   "source": [
    "df['categories']= df['categories'].str.strip('], ').str.strip('[]').str.strip('] ').str.replace(' ', '').str.split(',')"
   ]
  },
  {
   "cell_type": "code",
   "execution_count": 19,
   "metadata": {},
   "outputs": [
    {
     "data": {
      "text/plain": [
       "0    [10, 13, 24]\n",
       "1    [10, 13, 24]\n",
       "2    [10, 13, 24]\n",
       "3    [10, 13, 24]\n",
       "4    [10, 13, 24]\n",
       "Name: categories, dtype: object"
      ]
     },
     "execution_count": 19,
     "metadata": {},
     "output_type": "execute_result"
    }
   ],
   "source": [
    "df.categories.head()"
   ]
  },
  {
   "cell_type": "code",
   "execution_count": 20,
   "metadata": {},
   "outputs": [],
   "source": [
    "s = df['categories']"
   ]
  },
  {
   "cell_type": "code",
   "execution_count": 21,
   "metadata": {},
   "outputs": [],
   "source": [
    "df_cat = pd.get_dummies(s.apply(pd.Series).stack()).sum(level=0)"
   ]
  },
  {
   "cell_type": "markdown",
   "metadata": {},
   "source": [
    "Apply category labels to One Hot DF"
   ]
  },
  {
   "cell_type": "markdown",
   "metadata": {},
   "source": [
    "1 => 'Beauty',\n",
    "2 => 'DIY',\n",
    "3 => 'Fashion',\n",
    "4 => 'Lifestyle',\n",
    "5 => 'Menswear',\n",
    "6 => 'Models',\n",
    "8 => 'News',\n",
    "9 => 'Personal Style',\n",
    "10 => 'Photography',\n",
    "11 => 'Illustration',\n",
    "12 => 'Vlog',\n",
    "13 => 'Food',\n",
    "14 => 'Artist',\n",
    "15 => 'Musician/DJ',\n",
    "16 => \"Tech\",\n",
    "17 => \"Parenting\",\n",
    "18 => \"Entertainment\",\n",
    "19 => \"Fitness\",\n",
    "20 => \"Health and Wellness\",\n",
    "21 => \"Automotive\",\n",
    "22 => \"Home Decor\",\n",
    "23 => \"Art and Design\",\n",
    "24 => \"Travel\""
   ]
  },
  {
   "cell_type": "code",
   "execution_count": 22,
   "metadata": {},
   "outputs": [],
   "source": [
    "cat_columns = ['no_cat','cat_beauty', 'cat_photography', 'cat_illustration', 'cat_vlog', 'cat_food', 'cat_artist', 'cat_musician/DJ', \n",
    "               \"cat_tech\", \"cat_parenting\", \"cat_entertainment\", \"cat_fitness\", 'cat_diy', \"cat_health_wellness\", \"cat_automotive\", \n",
    "               \"cat_home_decor\", \"cat_art_design\", \"cat_travel\",'cat_fashion', 'cat_lifestyle', 'cat_menswear', \n",
    "               'cat_models', 'unknown', 'cat_news', 'cat_personal_style']"
   ]
  },
  {
   "cell_type": "code",
   "execution_count": 23,
   "metadata": {},
   "outputs": [],
   "source": [
    "df_cat.columns = cat_columns"
   ]
  },
  {
   "cell_type": "code",
   "execution_count": 24,
   "metadata": {},
   "outputs": [],
   "source": [
    "df = df.join(df_cat)"
   ]
  },
  {
   "cell_type": "code",
   "execution_count": 25,
   "metadata": {},
   "outputs": [],
   "source": [
    "df.drop('categories', axis=1, inplace=True)"
   ]
  },
  {
   "cell_type": "markdown",
   "metadata": {},
   "source": [
    "### description: remove quotes comvert to string"
   ]
  },
  {
   "cell_type": "code",
   "execution_count": 26,
   "metadata": {},
   "outputs": [],
   "source": [
    "df['description'] = pd.DataFrame(df['description'].str.replace('\",', ''))"
   ]
  },
  {
   "cell_type": "code",
   "execution_count": 27,
   "metadata": {},
   "outputs": [],
   "source": [
    "df['description'] = pd.DataFrame(df['description'].str.replace('\"', ''))"
   ]
  },
  {
   "cell_type": "code",
   "execution_count": 28,
   "metadata": {},
   "outputs": [],
   "source": [
    "df['description'] = pd.DataFrame(df['description'].str.replace('\"\",', ''))"
   ]
  },
  {
   "cell_type": "code",
   "execution_count": 29,
   "metadata": {},
   "outputs": [],
   "source": [
    "df['description'] = pd.DataFrame(df['description'].replace('nil, ', None))"
   ]
  },
  {
   "cell_type": "code",
   "execution_count": 30,
   "metadata": {},
   "outputs": [],
   "source": [
    "df.description = df.description.astype(str)"
   ]
  },
  {
   "cell_type": "markdown",
   "metadata": {},
   "source": [
    "### Convert Birthday to datetime "
   ]
  },
  {
   "cell_type": "code",
   "execution_count": 31,
   "metadata": {},
   "outputs": [],
   "source": [
    "df['birthday'] = pd.DataFrame(df['birthday'].str.replace('19992', '1992'))"
   ]
  },
  {
   "cell_type": "code",
   "execution_count": 32,
   "metadata": {},
   "outputs": [],
   "source": [
    "day_names = ['Mon, ', 'Tue, ', 'Wed, ', 'Thu, ', 'Fri, ', 'Sat, ', 'Sun, ', ', ', 'nil']\n",
    "for i in day_names:\n",
    "    df['birthday'] = pd.DataFrame(df['birthday'].str.replace(i, ''))"
   ]
  },
  {
   "cell_type": "code",
   "execution_count": 33,
   "metadata": {},
   "outputs": [],
   "source": [
    "df['birthday'] = pd.to_datetime(df['birthday'], dayfirst=True)"
   ]
  },
  {
   "cell_type": "code",
   "execution_count": 34,
   "metadata": {},
   "outputs": [],
   "source": [
    "df['birthday'] = df['birthday'].dt.year"
   ]
  },
  {
   "cell_type": "code",
   "execution_count": 35,
   "metadata": {},
   "outputs": [],
   "source": [
    "df.birthday.fillna(value=df.birthday.mean(), inplace=True)"
   ]
  },
  {
   "cell_type": "markdown",
   "metadata": {},
   "source": [
    "### Gender: Remove comma, remove 'nil',  convert to int"
   ]
  },
  {
   "cell_type": "code",
   "execution_count": 36,
   "metadata": {},
   "outputs": [],
   "source": [
    "df['gender'] = pd.DataFrame(df['gender'].str.replace(',', ''))"
   ]
  },
  {
   "cell_type": "code",
   "execution_count": 37,
   "metadata": {},
   "outputs": [],
   "source": [
    "df['gender'] = pd.DataFrame(df['gender'].replace('nil ', None))"
   ]
  },
  {
   "cell_type": "code",
   "execution_count": 38,
   "metadata": {},
   "outputs": [],
   "source": [
    "df.gender = pd.to_numeric(df.gender)"
   ]
  },
  {
   "cell_type": "markdown",
   "metadata": {},
   "source": [
    "### post_followers: Remove comma,  convert to int"
   ]
  },
  {
   "cell_type": "code",
   "execution_count": 39,
   "metadata": {},
   "outputs": [],
   "source": [
    "df['post_followers'] = pd.DataFrame(df['post_followers'].str.replace(',', ''))"
   ]
  },
  {
   "cell_type": "code",
   "execution_count": 40,
   "metadata": {},
   "outputs": [],
   "source": [
    "df.post_followers = pd.to_numeric(df.post_followers)"
   ]
  },
  {
   "cell_type": "markdown",
   "metadata": {},
   "source": [
    "### post_time: remove quotes, Convert to datetime, "
   ]
  },
  {
   "cell_type": "code",
   "execution_count": 41,
   "metadata": {},
   "outputs": [],
   "source": [
    "df['post_time'] = pd.DataFrame(df['post_time'].str.replace('\", ', ''))"
   ]
  },
  {
   "cell_type": "code",
   "execution_count": 42,
   "metadata": {},
   "outputs": [],
   "source": [
    "df['post_time'] = pd.DataFrame(df['post_time'].str.replace('\"', ''))"
   ]
  },
  {
   "cell_type": "code",
   "execution_count": 43,
   "metadata": {},
   "outputs": [],
   "source": [
    "df['post_time'] = pd.to_datetime(df['post_time'], dayfirst=True) #format= '%d %m %Y'"
   ]
  },
  {
   "cell_type": "markdown",
   "metadata": {},
   "source": [
    "### Reduce to 100 rows per user"
   ]
  },
  {
   "cell_type": "code",
   "execution_count": 44,
   "metadata": {},
   "outputs": [],
   "source": [
    "df = df.groupby('id').head(100).reset_index(drop=True)"
   ]
  },
  {
   "cell_type": "markdown",
   "metadata": {},
   "source": [
    "### Post Time bin into DOW & TOD"
   ]
  },
  {
   "cell_type": "code",
   "execution_count": 45,
   "metadata": {},
   "outputs": [],
   "source": [
    "df['post_day'] = df['post_time'].dt.dayofweek"
   ]
  },
  {
   "cell_type": "code",
   "execution_count": 46,
   "metadata": {},
   "outputs": [],
   "source": [
    "df['post_hour'] = df['post_time'].dt.hour"
   ]
  },
  {
   "cell_type": "code",
   "execution_count": 47,
   "metadata": {},
   "outputs": [],
   "source": [
    "df.drop('post_time', axis=1, inplace=True)"
   ]
  },
  {
   "cell_type": "markdown",
   "metadata": {},
   "source": [
    "### post_likes: Remove commas, convert to int"
   ]
  },
  {
   "cell_type": "code",
   "execution_count": 48,
   "metadata": {},
   "outputs": [],
   "source": [
    "df['post_likes'] = pd.DataFrame(df['post_likes'].str.replace(',', ''))"
   ]
  },
  {
   "cell_type": "code",
   "execution_count": 49,
   "metadata": {},
   "outputs": [],
   "source": [
    "df.post_likes = pd.to_numeric(df.post_likes)"
   ]
  },
  {
   "cell_type": "markdown",
   "metadata": {},
   "source": [
    "### post_interactions: Remove commas convert to int"
   ]
  },
  {
   "cell_type": "code",
   "execution_count": 50,
   "metadata": {},
   "outputs": [],
   "source": [
    "df['post_interactions'] = pd.DataFrame(df['post_interactions'].str.replace(', ', ''))"
   ]
  },
  {
   "cell_type": "code",
   "execution_count": 51,
   "metadata": {},
   "outputs": [],
   "source": [
    "df['post_interactions'] = pd.DataFrame(df['post_interactions'].str.replace(',', ''))"
   ]
  },
  {
   "cell_type": "code",
   "execution_count": 52,
   "metadata": {},
   "outputs": [],
   "source": [
    "df['post_interactions'] = pd.DataFrame(df['post_interactions'].str.replace('nil', ''))"
   ]
  },
  {
   "cell_type": "code",
   "execution_count": 53,
   "metadata": {},
   "outputs": [],
   "source": [
    "df['post_interactions'] = pd.DataFrame(df['post_interactions'].str.replace('\"\"', ''))"
   ]
  },
  {
   "cell_type": "code",
   "execution_count": 54,
   "metadata": {},
   "outputs": [],
   "source": [
    "df.post_interactions = pd.to_numeric(df.post_interactions)"
   ]
  },
  {
   "cell_type": "markdown",
   "metadata": {},
   "source": [
    "### post_comments: Remove commas, convert to int"
   ]
  },
  {
   "cell_type": "code",
   "execution_count": 55,
   "metadata": {},
   "outputs": [],
   "source": [
    "df['post_comments'] = pd.DataFrame(df['post_comments'].str.replace(', ', ''))"
   ]
  },
  {
   "cell_type": "code",
   "execution_count": 56,
   "metadata": {},
   "outputs": [],
   "source": [
    "df['post_comments'] = pd.DataFrame(df['post_comments'].str.replace(',', ''))"
   ]
  },
  {
   "cell_type": "code",
   "execution_count": 57,
   "metadata": {},
   "outputs": [],
   "source": [
    "df['post_comments'] = pd.DataFrame(df['post_comments'].str.replace('nil', ''))"
   ]
  },
  {
   "cell_type": "code",
   "execution_count": 58,
   "metadata": {},
   "outputs": [],
   "source": [
    "df['post_comments'] = pd.DataFrame(df['post_comments'].str.replace('\"\"', ''))"
   ]
  },
  {
   "cell_type": "code",
   "execution_count": 59,
   "metadata": {},
   "outputs": [],
   "source": [
    "df.post_comments = pd.to_numeric(df.post_comments)"
   ]
  },
  {
   "cell_type": "markdown",
   "metadata": {},
   "source": [
    "### post_caption: remove quotes and commas"
   ]
  },
  {
   "cell_type": "code",
   "execution_count": 60,
   "metadata": {},
   "outputs": [],
   "source": [
    "df['post_caption'] = pd.DataFrame(df['post_caption'].str.replace('\",', ''))"
   ]
  },
  {
   "cell_type": "code",
   "execution_count": 61,
   "metadata": {},
   "outputs": [],
   "source": [
    "df['post_caption'] = pd.DataFrame(df['post_caption'].str.replace('\"', ''))"
   ]
  },
  {
   "cell_type": "code",
   "execution_count": 62,
   "metadata": {},
   "outputs": [],
   "source": [
    "df['post_caption'] = pd.DataFrame(df['post_caption'].str.replace('\"\",', ''))"
   ]
  },
  {
   "cell_type": "code",
   "execution_count": 63,
   "metadata": {},
   "outputs": [],
   "source": [
    "df['post_caption'] = pd.DataFrame(df['post_caption'].str.replace('\\n', ''))"
   ]
  },
  {
   "cell_type": "code",
   "execution_count": 64,
   "metadata": {},
   "outputs": [],
   "source": [
    "df.post_caption = df.post_caption.astype(str)"
   ]
  },
  {
   "cell_type": "markdown",
   "metadata": {},
   "source": [
    "### post_hashtags: Remove quotes, convert to string"
   ]
  },
  {
   "cell_type": "code",
   "execution_count": 65,
   "metadata": {},
   "outputs": [],
   "source": [
    "df['post_hashtags'] = pd.DataFrame(df['post_hashtags'].str.replace('\",', ''))"
   ]
  },
  {
   "cell_type": "code",
   "execution_count": 66,
   "metadata": {},
   "outputs": [],
   "source": [
    "df['post_hashtags'] = pd.DataFrame(df['post_hashtags'].str.replace('\"', ''))"
   ]
  },
  {
   "cell_type": "code",
   "execution_count": 67,
   "metadata": {},
   "outputs": [],
   "source": [
    "df['post_hashtags'] = pd.DataFrame(df['post_hashtags'].str.replace('\"\",', ''))"
   ]
  },
  {
   "cell_type": "code",
   "execution_count": 68,
   "metadata": {},
   "outputs": [],
   "source": [
    "df.post_hashtags = df.post_hashtags.astype(str)"
   ]
  },
  {
   "cell_type": "markdown",
   "metadata": {},
   "source": [
    "### post_mentions: Remove quotes, convert to string"
   ]
  },
  {
   "cell_type": "code",
   "execution_count": 69,
   "metadata": {},
   "outputs": [],
   "source": [
    "df['post_mentions'] = pd.DataFrame(df['post_mentions'].str.replace('\",', ''))"
   ]
  },
  {
   "cell_type": "code",
   "execution_count": 70,
   "metadata": {},
   "outputs": [],
   "source": [
    "df['post_mentions'] = pd.DataFrame(df['post_mentions'].str.replace('\"', ''))"
   ]
  },
  {
   "cell_type": "code",
   "execution_count": 71,
   "metadata": {},
   "outputs": [],
   "source": [
    "df['post_mentions'] = pd.DataFrame(df['post_mentions'].str.replace('\"\",', ''))"
   ]
  },
  {
   "cell_type": "code",
   "execution_count": 72,
   "metadata": {},
   "outputs": [],
   "source": [
    "df['post_mentions'] = pd.DataFrame(df['post_mentions'].str.replace(\"#<Hashie::Array \\[]>\", ' '))"
   ]
  },
  {
   "cell_type": "code",
   "execution_count": 73,
   "metadata": {},
   "outputs": [],
   "source": [
    "df.post_mentions = df.post_mentions.astype(str)"
   ]
  },
  {
   "cell_type": "markdown",
   "metadata": {},
   "source": [
    "## Clean Text Data and save to a CSV"
   ]
  },
  {
   "cell_type": "code",
   "execution_count": 74,
   "metadata": {},
   "outputs": [],
   "source": [
    "df_text = df[['id', 'description', 'post_caption', 'post_hashtags', 'post_mentions']]"
   ]
  },
  {
   "cell_type": "code",
   "execution_count": 75,
   "metadata": {},
   "outputs": [
    {
     "name": "stderr",
     "output_type": "stream",
     "text": [
      "/anaconda3/lib/python3.7/site-packages/ipykernel_launcher.py:1: SettingWithCopyWarning: \n",
      "A value is trying to be set on a copy of a slice from a DataFrame.\n",
      "Try using .loc[row_indexer,col_indexer] = value instead\n",
      "\n",
      "See the caveats in the documentation: http://pandas.pydata.org/pandas-docs/stable/indexing.html#indexing-view-versus-copy\n",
      "  \"\"\"Entry point for launching an IPython kernel.\n"
     ]
    }
   ],
   "source": [
    "df_text['all_text'] = df_text[['post_caption', 'post_hashtags', 'post_mentions' ]].apply(lambda x: ' '.join(x), axis=1)"
   ]
  },
  {
   "cell_type": "markdown",
   "metadata": {},
   "source": [
    "Then groupby user id and description.  This allows for the description to be entered just once. "
   ]
  },
  {
   "cell_type": "code",
   "execution_count": 76,
   "metadata": {},
   "outputs": [],
   "source": [
    "df_text = df_text.groupby(['id', 'description'])['all_text'].apply(' '.join).reset_index()"
   ]
  },
  {
   "cell_type": "code",
   "execution_count": 77,
   "metadata": {},
   "outputs": [],
   "source": [
    "df_text['all_text'] = df_text[['description', 'all_text']].apply(lambda x: ' '.join(x), axis=1)"
   ]
  },
  {
   "cell_type": "code",
   "execution_count": 84,
   "metadata": {},
   "outputs": [],
   "source": [
    "df_text.drop('description', axis=1, inplace=True)"
   ]
  },
  {
   "cell_type": "code",
   "execution_count": 80,
   "metadata": {},
   "outputs": [],
   "source": [
    "df_text.all_text = pd.DataFrame(df_text['all_text'].str.replace('\\n-\\n', ' '))"
   ]
  },
  {
   "cell_type": "code",
   "execution_count": 81,
   "metadata": {},
   "outputs": [],
   "source": [
    "bad_character_list = ['\\\\n•', '\\\\n', '\\n', ',', '.', '?', '!', ')', '(', '#', '&', '\\r', '\"', '\\r\\n\\r\\n']"
   ]
  },
  {
   "cell_type": "code",
   "execution_count": 87,
   "metadata": {},
   "outputs": [
    {
     "data": {
      "text/html": [
       "<div>\n",
       "<style scoped>\n",
       "    .dataframe tbody tr th:only-of-type {\n",
       "        vertical-align: middle;\n",
       "    }\n",
       "\n",
       "    .dataframe tbody tr th {\n",
       "        vertical-align: top;\n",
       "    }\n",
       "\n",
       "    .dataframe thead th {\n",
       "        text-align: right;\n",
       "    }\n",
       "</style>\n",
       "<table border=\"1\" class=\"dataframe\">\n",
       "  <thead>\n",
       "    <tr style=\"text-align: right;\">\n",
       "      <th></th>\n",
       "      <th>id</th>\n",
       "      <th>all_text</th>\n",
       "    </tr>\n",
       "  </thead>\n",
       "  <tbody>\n",
       "    <tr>\n",
       "      <th>0</th>\n",
       "      <td>17</td>\n",
       "      <td>Wow so fashion   Every pup is born with the ma...</td>\n",
       "    </tr>\n",
       "    <tr>\n",
       "      <th>1</th>\n",
       "      <td>21</td>\n",
       "      <td>Personal Style Blog  Taking In The Calm Before...</td>\n",
       "    </tr>\n",
       "    <tr>\n",
       "      <th>2</th>\n",
       "      <td>28</td>\n",
       "      <td>Digital Influencer sharing her lifestyle based...</td>\n",
       "    </tr>\n",
       "    <tr>\n",
       "      <th>3</th>\n",
       "      <td>30</td>\n",
       "      <td>So were you on the naughty list or the nice ...</td>\n",
       "    </tr>\n",
       "    <tr>\n",
       "      <th>4</th>\n",
       "      <td>65</td>\n",
       "      <td>\\u1F6D2 ONLINE 📍wwwkm33officialcom      1 de...</td>\n",
       "    </tr>\n",
       "  </tbody>\n",
       "</table>\n",
       "</div>"
      ],
      "text/plain": [
       "   id                                           all_text\n",
       "0  17  Wow so fashion   Every pup is born with the ma...\n",
       "1  21  Personal Style Blog  Taking In The Calm Before...\n",
       "2  28  Digital Influencer sharing her lifestyle based...\n",
       "3  30    So were you on the naughty list or the nice ...\n",
       "4  65    \\u1F6D2 ONLINE 📍wwwkm33officialcom      1 de..."
      ]
     },
     "execution_count": 87,
     "metadata": {},
     "output_type": "execute_result"
    }
   ],
   "source": []
  },
  {
   "cell_type": "code",
   "execution_count": 82,
   "metadata": {},
   "outputs": [],
   "source": [
    "for symbol in bad_character_list:\n",
    "    df_text.all_text = pd.DataFrame(df_text['all_text'].str.replace(symbol, '', regex=False))"
   ]
  },
  {
   "cell_type": "markdown",
   "metadata": {},
   "source": [
    "### Save Text data to CSV"
   ]
  },
  {
   "cell_type": "code",
   "execution_count": 85,
   "metadata": {},
   "outputs": [],
   "source": [
    "df_text.to_csv('text_per_user.csv')"
   ]
  },
  {
   "cell_type": "markdown",
   "metadata": {},
   "source": [
    "## Save Num Values to CSV"
   ]
  },
  {
   "cell_type": "markdown",
   "metadata": {
    "scrolled": false
   },
   "source": [
    "We will save to two CSV files, one which includes the text columns and the second which only includes the integer based columns. We are doing this to allow for an intermediate step of Natural Language Processing before combining to a single Cosine Similarity recommendation. "
   ]
  },
  {
   "cell_type": "code",
   "execution_count": 90,
   "metadata": {},
   "outputs": [],
   "source": [
    "df.fillna(value=0, inplace=True)"
   ]
  },
  {
   "cell_type": "code",
   "execution_count": 91,
   "metadata": {},
   "outputs": [],
   "source": [
    "df_values = df[['id', 'birthday', 'gender', 'post_followers',\n",
    "       'post_likes', 'post_interactions', 'post_comments',\n",
    "       'no_cat', 'cat_beauty', 'cat_photography', 'cat_illustration', 'cat_vlog', 'cat_food',\n",
    "       'cat_artist', 'cat_musician/DJ', 'cat_tech', 'cat_parenting',\n",
    "       'cat_entertainment', 'cat_fitness', 'cat_diy', 'cat_health_wellness',\n",
    "       'cat_automotive', 'cat_home_decor', 'cat_art_design', 'cat_travel',\n",
    "       'cat_fashion', 'cat_lifestyle', 'cat_menswear', 'cat_models', 'unknown',\n",
    "       'cat_news', 'cat_personal_style', 'post_day', 'post_hour']]"
   ]
  },
  {
   "cell_type": "markdown",
   "metadata": {},
   "source": [
    "Group all by ID and set all values to **Mean**"
   ]
  },
  {
   "cell_type": "code",
   "execution_count": 92,
   "metadata": {},
   "outputs": [],
   "source": [
    "df_values = df.groupby(df_values.id).mean().round()"
   ]
  },
  {
   "cell_type": "markdown",
   "metadata": {},
   "source": [
    "### Save Text data to CSV"
   ]
  },
  {
   "cell_type": "code",
   "execution_count": 90,
   "metadata": {},
   "outputs": [],
   "source": [
    "df_values.to_csv('values_per_user.csv')"
   ]
  }
 ],
 "metadata": {
  "kernelspec": {
   "display_name": "Python 3",
   "language": "python",
   "name": "python3"
  },
  "language_info": {
   "codemirror_mode": {
    "name": "ipython",
    "version": 3
   },
   "file_extension": ".py",
   "mimetype": "text/x-python",
   "name": "python",
   "nbconvert_exporter": "python",
   "pygments_lexer": "ipython3",
   "version": "3.7.1"
  }
 },
 "nbformat": 4,
 "nbformat_minor": 2
}
