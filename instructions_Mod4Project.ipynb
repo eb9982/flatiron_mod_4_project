{
 "cells": [
  {
   "cell_type": "markdown",
   "metadata": {},
   "source": [
    "# Module 4 Project\n",
    "____\n",
    "\n",
    "## Deep Learning and Advanced Topics\n",
    "___\n",
    "\n",
    "In module 4, we covered unsupervised learning, time series and deep learning. We'll have a presentation in class on where you will be presenting to your fellow Data Scientists!\n",
    "\n",
    "Your project must be focused on one of the following topics:\n",
    "\n",
    "- Time Series\n",
    "- Recommendation Systems\n",
    "- Clustering\n",
    "- Deep Neural Networks\n",
    "- Convolutional Neural Networks\n",
    "\n",
    "____\n",
    "#### Mod 4 Project Specifications\n",
    "\n",
    "Your project should contain:\n",
    "\n",
    "- Problem Statement\n",
    "- A description of the problem at hand. What problem are you trying to solve? Why is it a problem?\n",
    "- Evaluation metrics of your models and an explanation of which model is best for your given domain\n",
    "- A description/visual representation of your data preparation and modeling pipeline \n",
    "- At least 3 visualizations\n",
    "- Conclusion\n",
    "- So what? Given your analysis, what do we now know about our initial problem statement?\n",
    "- Your final product should be either a slide, a jupyter notebook, or a readme.md file \n",
    "\n",
    "Data Gathering\n",
    "Data can be captured from current databases online or scraped. If performing a classification, you should have at least 1000 observations belonging to each class.\n",
    "\n",
    "___\n",
    "Some useful sources of data for Deep Learning are:\n",
    "\n",
    "- http://www.image-net.org/\n",
    "- http://deeplearning.net/datasets/\n",
    "- https://skymind.ai/wiki/open-datasets\n",
    "- https://www.analyticsvidhya.com/blog/2018/03/comprehensive-collection-deep-learning-datasets/\n",
    "- https://toolbox.google.com/datasetsearch\n",
    "\n",
    "\n",
    "Project Inspiration\n",
    "- http://cs229.stanford.edu/projects.html\n",
    "- https://ml-showcase.com/\n",
    "- http://www.yaronhadad.com/deep-learning-most-amazing-applications/\n",
    "- Another option is to try and recreate results from a research paper"
   ]
  },
  {
   "cell_type": "code",
   "execution_count": null,
   "metadata": {},
   "outputs": [],
   "source": []
  }
 ],
 "metadata": {
  "kernelspec": {
   "display_name": "Python 3",
   "language": "python",
   "name": "python3"
  },
  "language_info": {
   "codemirror_mode": {
    "name": "ipython",
    "version": 3
   },
   "file_extension": ".py",
   "mimetype": "text/x-python",
   "name": "python",
   "nbconvert_exporter": "python",
   "pygments_lexer": "ipython3",
   "version": "3.7.1"
  }
 },
 "nbformat": 4,
 "nbformat_minor": 2
}
